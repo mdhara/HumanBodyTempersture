{
 "cells": [
  {
   "cell_type": "markdown",
   "metadata": {},
   "source": [
    "## What is the true normal human body temperature? \n",
    "\n",
    "#### Background\n",
    "\n",
    "The mean normal body temperature was held to be 37$^{\\circ}$C or 98.6$^{\\circ}$F for more than 120 years since it was first conceptualized and reported by Carl Wunderlich in a famous 1868 book. In 1992, this value was revised to 36.8$^{\\circ}$C or 98.2$^{\\circ}$F. \n",
    "\n",
    "#### Exercise\n",
    "In this exercise, you will analyze a dataset of human body temperatures and employ the concepts of hypothesis testing, confidence intervals, and statistical significance.\n",
    "\n",
    "Answer the following questions **in this notebook below and submit to your Github account**. \n",
    "\n",
    "1.  Is the distribution of body temperatures normal? \n",
    "    - Remember that this is a condition for the CLT, and hence the statistical tests we are using, to apply. \n",
    "2.  Is the true population mean really 98.6 degrees F?\n",
    "    - Bring out the one sample hypothesis test! In this situation, is it approriate to apply a z-test or a t-test? How will the result be different?\n",
    "3.  At what temperature should we consider someone's temperature to be \"abnormal\"?\n",
    "    - Start by computing the margin of error and confidence interval.\n",
    "4.  Is there a significant difference between males and females in normal temperature?\n",
    "    - Set up and solve for a two sample hypothesis testing.\n",
    "\n",
    "You can include written notes in notebook cells using Markdown: \n",
    "   - In the control panel at the top, choose Cell > Cell Type > Markdown\n",
    "   - Markdown syntax: http://nestacms.com/docs/creating-content/markdown-cheat-sheet\n",
    "\n",
    "#### Resources\n",
    "\n",
    "+ Information and data sources: http://www.amstat.org/publications/jse/datasets/normtemp.txt, http://www.amstat.org/publications/jse/jse_data_archive.htm\n",
    "+ Markdown syntax: http://nestacms.com/docs/creating-content/markdown-cheat-sheet\n",
    "\n",
    "****"
   ]
  },
  {
   "cell_type": "code",
   "execution_count": 1,
   "metadata": {
    "collapsed": true
   },
   "outputs": [],
   "source": [
    "import pandas as pd\n",
    "import numpy as np"
   ]
  },
  {
   "cell_type": "code",
   "execution_count": 2,
   "metadata": {
    "collapsed": false
   },
   "outputs": [],
   "source": [
    "df = pd.read_csv('data/human_body_temperature.csv')"
   ]
  },
  {
   "cell_type": "code",
   "execution_count": 3,
   "metadata": {
    "collapsed": false
   },
   "outputs": [
    {
     "data": {
      "text/plain": [
       "130"
      ]
     },
     "execution_count": 3,
     "metadata": {},
     "output_type": "execute_result"
    }
   ],
   "source": [
    "n = len(df)\n",
    "n"
   ]
  },
  {
   "cell_type": "code",
   "execution_count": 4,
   "metadata": {
    "collapsed": false
   },
   "outputs": [
    {
     "data": {
      "text/html": [
       "<div>\n",
       "<table border=\"1\" class=\"dataframe\">\n",
       "  <thead>\n",
       "    <tr style=\"text-align: right;\">\n",
       "      <th></th>\n",
       "      <th>temperature</th>\n",
       "      <th>gender</th>\n",
       "      <th>heart_rate</th>\n",
       "    </tr>\n",
       "  </thead>\n",
       "  <tbody>\n",
       "    <tr>\n",
       "      <th>0</th>\n",
       "      <td>99.3</td>\n",
       "      <td>F</td>\n",
       "      <td>68.0</td>\n",
       "    </tr>\n",
       "    <tr>\n",
       "      <th>1</th>\n",
       "      <td>98.4</td>\n",
       "      <td>F</td>\n",
       "      <td>81.0</td>\n",
       "    </tr>\n",
       "    <tr>\n",
       "      <th>2</th>\n",
       "      <td>97.8</td>\n",
       "      <td>M</td>\n",
       "      <td>73.0</td>\n",
       "    </tr>\n",
       "  </tbody>\n",
       "</table>\n",
       "</div>"
      ],
      "text/plain": [
       "   temperature gender  heart_rate\n",
       "0         99.3      F        68.0\n",
       "1         98.4      F        81.0\n",
       "2         97.8      M        73.0"
      ]
     },
     "execution_count": 4,
     "metadata": {},
     "output_type": "execute_result"
    }
   ],
   "source": [
    "df.head(3)"
   ]
  },
  {
   "cell_type": "code",
   "execution_count": 5,
   "metadata": {
    "collapsed": false
   },
   "outputs": [
    {
     "name": "stdout",
     "output_type": "stream",
     "text": [
      "98.2492307692\n",
      "0.733183158039\n"
     ]
    }
   ],
   "source": [
    "mean = df['temperature'].mean()\n",
    "sd = df['temperature'].std()\n",
    "print mean\n",
    "print sd"
   ]
  },
  {
   "cell_type": "markdown",
   "metadata": {},
   "source": [
    "## 1. Is the distribution of body temperatures normal?"
   ]
  },
  {
   "cell_type": "code",
   "execution_count": 6,
   "metadata": {
    "collapsed": false
   },
   "outputs": [
    {
     "name": "stderr",
     "output_type": "stream",
     "text": [
      "/Users/dhara/miniconda2/envs/env/lib/python2.7/site-packages/matplotlib/font_manager.py:273: UserWarning: Matplotlib is building the font cache using fc-list. This may take a moment.\n",
      "  warnings.warn('Matplotlib is building the font cache using fc-list. This may take a moment.')\n"
     ]
    },
    {
     "data": {
      "image/png": "[encoded data removed]",
      "text/plain": [
       "<matplotlib.figure.Figure at 0x107b08e50>"
      ]
     },
     "metadata": {},
     "output_type": "display_data"
    }
   ],
   "source": [
    "%matplotlib inline\n",
    "df.temperature.plot(kind=\"hist\");"
   ]
  },
  {
   "cell_type": "code",
   "execution_count": 7,
   "metadata": {
    "collapsed": false
   },
   "outputs": [
    {
     "data": {
      "text/plain": [
       "69.23076923076923"
      ]
     },
     "execution_count": 7,
     "metadata": {},
     "output_type": "execute_result"
    }
   ],
   "source": [
    "a = len(df[(df.temperature > (mean-sd)) & (df.temperature < (mean+sd)) ])\n",
    "percent_1_sd = (float(a)/n)*100\n",
    "percent_1_sd"
   ]
  },
  {
   "cell_type": "code",
   "execution_count": 8,
   "metadata": {
    "collapsed": false
   },
   "outputs": [
    {
     "data": {
      "text/plain": [
       "94.61538461538461"
      ]
     },
     "execution_count": 8,
     "metadata": {},
     "output_type": "execute_result"
    }
   ],
   "source": [
    "b = len(df[(df.temperature > (mean-(2*sd))) & (df.temperature < (mean+(2*sd))) ])\n",
    "percent_2_sd = (float(b)/n)*100\n",
    "percent_2_sd"
   ]
  },
  {
   "cell_type": "code",
   "execution_count": 9,
   "metadata": {
    "collapsed": false
   },
   "outputs": [
    {
     "data": {
      "text/plain": [
       "99.23076923076923"
      ]
     },
     "execution_count": 9,
     "metadata": {},
     "output_type": "execute_result"
    }
   ],
   "source": [
    "c = len(df[(df.temperature > (mean-(3*sd))) & (df.temperature < (mean+(3*sd))) ])\n",
    "percent_3_sd = (float(c)/n)*100\n",
    "percent_3_sd"
   ]
  },
  {
   "cell_type": "markdown",
   "metadata": {},
   "source": [
    "It is a normal distribution\n",
    "\n",
    "All normal density curves satisfy the following property which is often referred to as the Empirical Rule.\n",
    "\n",
    "68%\n",
    "of the observations fall within 1 standard deviation of the mean\n",
    "\n",
    "95%\n",
    "of the observations fall within 2 standard deviations of the mean\n",
    "\n",
    "99.7%\n",
    "of the observations fall within 3 standard deviations of the mean\n",
    "\n",
    "As can be seen from the calculations above, the Enpirical Rule holds tru for the sample. Hence, it is a normal distribution."
   ]
  },
  {
   "cell_type": "markdown",
   "metadata": {},
   "source": [
    "## 2. Is the true population mean really 98.6 degrees F?\n",
    "\n",
    "H0: p = 98.6\n",
    "\n",
    "H1: p = 98.2F\n",
    "\n",
    "Assume H0 is true. \n",
    "\n",
    "Probability that the sample mean 98.2 is less than 1% then we reject H0. \n",
    "\n",
    "Since sample size (=130) is greater than 30, we will use z-statistic"
   ]
  },
  {
   "cell_type": "code",
   "execution_count": 10,
   "metadata": {
    "collapsed": false
   },
   "outputs": [
    {
     "name": "stdout",
     "output_type": "stream",
     "text": [
      "-5.45482329236\n"
     ]
    }
   ],
   "source": [
    "import math\n",
    "\n",
    "sample_mean = mean\n",
    "h0_mean = 98.6\n",
    "z_stat = (sample_mean-h0_mean)/(sd/math.sqrt(n))\n",
    "print z_stat"
   ]
  },
  {
   "cell_type": "code",
   "execution_count": 11,
   "metadata": {
    "collapsed": false
   },
   "outputs": [
    {
     "name": "stdout",
     "output_type": "stream",
     "text": [
      "2.45107850705e-08\n"
     ]
    }
   ],
   "source": [
    "import scipy \n",
    "from scipy import stats\n",
    "from scipy.stats import norm\n",
    "\n",
    "p_value = scipy.stats.norm.sf(abs(z_stat)) #one-sided\n",
    "print p_value"
   ]
  },
  {
   "cell_type": "markdown",
   "metadata": {},
   "source": [
    "Since p-value is less than 0.32 (32%), which is greater than the 5% margin of error, we accept the null hypothesis.\n",
    "\n",
    "Hence, the population mean is really 98.6F\n",
    "\n",
    "## 3. At what temperature should we consider someone's temperature to be \"abnormal\"?"
   ]
  },
  {
   "cell_type": "code",
   "execution_count": 15,
   "metadata": {
    "collapsed": false
   },
   "outputs": [
    {
     "name": "stdout",
     "output_type": "stream",
     "text": [
      "z-critical value:\n",
      "1.95996398454\n",
      "margin of error:\n",
      "1.43701258383\n",
      "Confidence interval:\n",
      "(96.812218185403083, 99.686243353058416)\n",
      "abnormal values:\n"
     ]
    },
    {
     "data": {
      "text/html": [
       "<div>\n",
       "<table border=\"1\" class=\"dataframe\">\n",
       "  <thead>\n",
       "    <tr style=\"text-align: right;\">\n",
       "      <th></th>\n",
       "      <th>temperature</th>\n",
       "      <th>gender</th>\n",
       "      <th>heart_rate</th>\n",
       "    </tr>\n",
       "  </thead>\n",
       "  <tbody>\n",
       "    <tr>\n",
       "      <th>11</th>\n",
       "      <td>96.7</td>\n",
       "      <td>F</td>\n",
       "      <td>62.0</td>\n",
       "    </tr>\n",
       "    <tr>\n",
       "      <th>39</th>\n",
       "      <td>96.4</td>\n",
       "      <td>F</td>\n",
       "      <td>69.0</td>\n",
       "    </tr>\n",
       "    <tr>\n",
       "      <th>91</th>\n",
       "      <td>100.0</td>\n",
       "      <td>F</td>\n",
       "      <td>78.0</td>\n",
       "    </tr>\n",
       "    <tr>\n",
       "      <th>95</th>\n",
       "      <td>96.8</td>\n",
       "      <td>F</td>\n",
       "      <td>75.0</td>\n",
       "    </tr>\n",
       "    <tr>\n",
       "      <th>96</th>\n",
       "      <td>99.9</td>\n",
       "      <td>F</td>\n",
       "      <td>79.0</td>\n",
       "    </tr>\n",
       "    <tr>\n",
       "      <th>105</th>\n",
       "      <td>96.7</td>\n",
       "      <td>M</td>\n",
       "      <td>71.0</td>\n",
       "    </tr>\n",
       "    <tr>\n",
       "      <th>116</th>\n",
       "      <td>100.8</td>\n",
       "      <td>F</td>\n",
       "      <td>77.0</td>\n",
       "    </tr>\n",
       "    <tr>\n",
       "      <th>125</th>\n",
       "      <td>96.3</td>\n",
       "      <td>M</td>\n",
       "      <td>70.0</td>\n",
       "    </tr>\n",
       "  </tbody>\n",
       "</table>\n",
       "</div>"
      ],
      "text/plain": [
       "     temperature gender  heart_rate\n",
       "11          96.7      F        62.0\n",
       "39          96.4      F        69.0\n",
       "91         100.0      F        78.0\n",
       "95          96.8      F        75.0\n",
       "96          99.9      F        79.0\n",
       "105         96.7      M        71.0\n",
       "116        100.8      F        77.0\n",
       "125         96.3      M        70.0"
      ]
     },
     "execution_count": 15,
     "metadata": {},
     "output_type": "execute_result"
    }
   ],
   "source": [
    "# Assuming 95% Confidence Interval find the critical z-value\n",
    "z_critical = stats.norm.ppf(q = 0.975)\n",
    "print(\"z-critical value:\")              # Check the z-critical value\n",
    "print(z_critical)\n",
    "\n",
    "margin_of_error = z_critical * (sd)\n",
    "print(\"margin of error:\")\n",
    "print(margin_of_error)\n",
    "\n",
    "confidence_interval = (mean - margin_of_error,\n",
    "                       mean + margin_of_error)  \n",
    "\n",
    "print(\"Confidence interval:\")\n",
    "print(confidence_interval)\n",
    "        \n",
    "print(\"abnormal values:\")\n",
    "df[(df.temperature<(mean - margin_of_error)) | (df.temperature>(mean+margin_of_error))]"
   ]
  },
  {
   "cell_type": "markdown",
   "metadata": {},
   "source": [
    "## 4. Is there a significant difference between males and females in normal temperature?"
   ]
  },
  {
   "cell_type": "code",
   "execution_count": 16,
   "metadata": {
    "collapsed": false
   },
   "outputs": [
    {
     "name": "stdout",
     "output_type": "stream",
     "text": [
      "mean difference:\n",
      "0.289230769231\n",
      "std difference:\n",
      "0.12655395042\n"
     ]
    }
   ],
   "source": [
    "mean_male = df[df.gender == 'M'].temperature.mean()\n",
    "mean_female = df[df.gender == 'F'].temperature.mean()\n",
    "std_male = df[df.gender == 'M'].temperature.std()\n",
    "std_female = df[df.gender == 'F'].temperature.std()\n",
    "\n",
    "n1 = len(df[df.gender == 'M'])\n",
    "n2 = len(df[df.gender == 'F'])\n",
    "\n",
    "mean_diff = mean_female - mean_male\n",
    "print(\"mean difference:\")\n",
    "print(mean_diff)\n",
    "\n",
    "std_diff = math.sqrt((std_female*std_female/n2) + (std_male*std_male/n1))\n",
    "print(\"std difference:\")\n",
    "print(std_diff)"
   ]
  },
  {
   "cell_type": "markdown",
   "metadata": {},
   "source": [
    "H0: NO SIGNIFICANT DIFFERENCE BETWEEN MALES AND FEMALES TEMPERATURE\n",
    "\n",
    "H1: THERE IS A SIGNIFICANT DIFFERENCE\n",
    "\n",
    "Assume H0 is true. \n",
    "\n",
    "Confidence Interval: 95%\n",
    "\n",
    "If probability that mean difference = 0.2893 is below 5%, we will reject H0."
   ]
  },
  {
   "cell_type": "code",
   "execution_count": 17,
   "metadata": {
    "collapsed": false
   },
   "outputs": [
    {
     "name": "stdout",
     "output_type": "stream",
     "text": [
      "5% chance that difference in males and females temperature is grreater than:\n",
      "0.248041184924\n",
      "H0 rejected. There is a significant difference\n"
     ]
    }
   ],
   "source": [
    "critical_diff = z_critical*std_diff\n",
    "print(\"5% chance that difference in males and females temperature is grreater than:\")\n",
    "print critical_diff\n",
    "\n",
    "if(mean_diff>critical_diff):\n",
    "    print(\"H0 rejected. There is a significant difference\")\n",
    "else:\n",
    "    print(\"H0 accepted. There is no sifnificant difference\")"
   ]
  },
  {
   "cell_type": "code",
   "execution_count": null,
   "metadata": {
    "collapsed": true
   },
   "outputs": [],
   "source": []
  }
 ],
 "metadata": {
  "kernelspec": {
   "display_name": "Python 2",
   "language": "python",
   "name": "python2"
  },
  "language_info": {
   "codemirror_mode": {
    "name": "ipython",
    "version": 2
   },
   "file_extension": ".py",
   "mimetype": "text/x-python",
   "name": "python",
   "nbconvert_exporter": "python",
   "pygments_lexer": "ipython2",
   "version": "2.7.12"
  }
 },
 "nbformat": 4,
 "nbformat_minor": 0
}
